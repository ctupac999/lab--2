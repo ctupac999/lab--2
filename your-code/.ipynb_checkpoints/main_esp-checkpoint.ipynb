{
 "cells": [
  {
   "cell_type": "markdown",
   "metadata": {},
   "source": [
    "## Palabras"
   ]
  },
  {
   "cell_type": "code",
   "execution_count": 8,
   "metadata": {},
   "outputs": [],
   "source": [
    "words = ['play', 'filling', 'bar', 'theatre', 'easygoing', 'date', 'lead', 'that', 'story',  'island']"
   ]
  },
  {
   "cell_type": "markdown",
   "metadata": {},
   "source": [
    "**Imprime todas las letras en mayuscula**"
   ]
  },
  {
   "cell_type": "code",
   "execution_count": 11,
   "metadata": {},
   "outputs": [
    {
     "name": "stdout",
     "output_type": "stream",
     "text": [
      "PLAY\n",
      "FILLING\n",
      "BAR\n",
      "THEATRE\n",
      "EASYGOING\n",
      "DATE\n",
      "LEAD\n",
      "THAT\n",
      "STORY\n",
      "ISLAND\n"
     ]
    }
   ],
   "source": [
    "for word in words:\n",
    "    print(word.upper())"
   ]
  },
  {
   "cell_type": "markdown",
   "metadata": {},
   "source": [
    "**Crea una nueva lista que contenga 5 o más letras**"
   ]
  },
  {
   "cell_type": "code",
   "execution_count": 13,
   "metadata": {},
   "outputs": [],
   "source": [
    "nueva_lista = [\"a\",\"b\",\"c\",\"d\",\"f\"]"
   ]
  },
  {
   "cell_type": "markdown",
   "metadata": {},
   "source": [
    "**Imprime la primera palabra que empiece por 't'**"
   ]
  },
  {
   "cell_type": "code",
   "execution_count": 21,
   "metadata": {},
   "outputs": [
    {
     "name": "stdout",
     "output_type": "stream",
     "text": [
      "{'theatre'}\n"
     ]
    }
   ],
   "source": [
    "for i in words: \n",
    "    if i.startswith(\"t\"):\n",
    "        print({i})\n",
    "        break"
   ]
  },
  {
   "cell_type": "markdown",
   "metadata": {},
   "source": [
    "## Numeros"
   ]
  },
  {
   "cell_type": "markdown",
   "metadata": {},
   "source": [
    "**Crea una lista que contenga el cuadraro de cada numero entre 1 y 10**"
   ]
  },
  {
   "cell_type": "code",
   "execution_count": 44,
   "metadata": {},
   "outputs": [
    {
     "name": "stdout",
     "output_type": "stream",
     "text": [
      "{0: 1, 1: 4, 2: 9, 3: 16, 4: 25, 5: 36, 6: 49, 7: 64, 8: 81, 9: 100}\n"
     ]
    }
   ],
   "source": [
    "lista_cuadrados={}\n",
    "for i in range(10):\n",
    "    lista_cuadrados[i] = (i+1)**2\n",
    "print (lista_cuadrados)"
   ]
  },
  {
   "cell_type": "markdown",
   "metadata": {},
   "source": [
    "**Imprime una lista que contenga el cuadrado de cada número impar del 1 al 10**"
   ]
  },
  {
   "cell_type": "code",
   "execution_count": 54,
   "metadata": {},
   "outputs": [
    {
     "name": "stdout",
     "output_type": "stream",
     "text": [
      "{0: 1, 2: 9, 4: 25, 6: 49, 8: 81}\n"
     ]
    }
   ],
   "source": [
    "lista_cuadrados_impar={}\n",
    "for i in range(0,10,2):\n",
    "    lista_cuadrados_impar[i] = (i+1)**2\n",
    "print (lista_cuadrados_impar)"
   ]
  },
  {
   "cell_type": "markdown",
   "metadata": {},
   "source": [
    "**Crear una lista con los cuadrados de todos los múltiplos de 8 por debajo de 1000**"
   ]
  },
  {
   "cell_type": "code",
   "execution_count": 74,
   "metadata": {},
   "outputs": [
    {
     "name": "stdout",
     "output_type": "stream",
     "text": [
      "124\n",
      "{8: 64, 16: 256, 24: 576, 32: 1024, 40: 1600, 48: 2304, 56: 3136, 64: 4096, 72: 5184, 80: 6400, 88: 7744, 96: 9216, 104: 10816, 112: 12544, 120: 14400, 128: 16384, 136: 18496, 144: 20736, 152: 23104, 160: 25600, 168: 28224, 176: 30976, 184: 33856, 192: 36864, 200: 40000, 208: 43264, 216: 46656, 224: 50176, 232: 53824, 240: 57600, 248: 61504, 256: 65536, 264: 69696, 272: 73984, 280: 78400, 288: 82944, 296: 87616, 304: 92416, 312: 97344, 320: 102400, 328: 107584, 336: 112896, 344: 118336, 352: 123904, 360: 129600, 368: 135424, 376: 141376, 384: 147456, 392: 153664, 400: 160000, 408: 166464, 416: 173056, 424: 179776, 432: 186624, 440: 193600, 448: 200704, 456: 207936, 464: 215296, 472: 222784, 480: 230400, 488: 238144, 496: 246016, 504: 254016, 512: 262144, 520: 270400, 528: 278784, 536: 287296, 544: 295936, 552: 304704, 560: 313600, 568: 322624, 576: 331776, 584: 341056, 592: 350464, 600: 360000, 608: 369664, 616: 379456, 624: 389376, 632: 399424, 640: 409600, 648: 419904, 656: 430336, 664: 440896, 672: 451584, 680: 462400, 688: 473344, 696: 484416, 704: 495616, 712: 506944, 720: 518400, 728: 529984, 736: 541696, 744: 553536, 752: 565504, 760: 577600, 768: 589824, 776: 602176, 784: 614656, 792: 627264, 800: 640000, 808: 652864, 816: 665856, 824: 678976, 832: 692224, 840: 705600, 848: 719104, 856: 732736, 864: 746496, 872: 760384, 880: 774400, 888: 788544, 896: 802816, 904: 817216, 912: 831744, 920: 846400, 928: 861184, 936: 876096, 944: 891136, 952: 906304, 960: 921600, 968: 937024, 976: 952576, 984: 968256, 992: 984064}\n"
     ]
    }
   ],
   "source": [
    "lista_cuadrados_8={}\n",
    "for i in range(8,1000,8):\n",
    "    lista_cuadrados_8[i] = (i)**2\n",
    "print (len(lista_cuadrados_8))\n",
    "print (lista_cuadrados_8)"
   ]
  },
  {
   "cell_type": "markdown",
   "metadata": {},
   "source": [
    "## People"
   ]
  },
  {
   "cell_type": "code",
   "execution_count": 84,
   "metadata": {},
   "outputs": [],
   "source": [
    "people = [\n",
    "    {\n",
    "        \"name\": \"Juan\",\n",
    "        \"age\": 34,\n",
    "        \"n_kids\": 2\n",
    "    },\n",
    "    {\n",
    "        \"name\": \"Pepe\",\n",
    "        \"age\": 27,\n",
    "        \"n_kids\": 0\n",
    "    },\n",
    "    {\n",
    "        \"name\": \"Sonia\",\n",
    "        \"age\": 41,\n",
    "        \"n_kids\": 1\n",
    "    },\n",
    "    {\n",
    "        \"name\": \"Lucía\",\n",
    "        \"age\": 22,\n",
    "        \"n_kids\": 2\n",
    "    },\n",
    "    {\n",
    "        \"name\": \"Leo\",\n",
    "        \"age\": 55,\n",
    "        \"n_kids\": 5\n",
    "    }\n",
    "]"
   ]
  },
  {
   "cell_type": "markdown",
   "metadata": {},
   "source": [
    "**Cuánta gente hay?**"
   ]
  },
  {
   "cell_type": "code",
   "execution_count": 89,
   "metadata": {},
   "outputs": [
    {
     "name": "stdout",
     "output_type": "stream",
     "text": [
      "5\n"
     ]
    }
   ],
   "source": [
    "print(len(people))"
   ]
  },
  {
   "cell_type": "markdown",
   "metadata": {},
   "source": [
    "**Cuanta gente tiene hijos**?"
   ]
  },
  {
   "cell_type": "code",
   "execution_count": 111,
   "metadata": {},
   "outputs": [
    {
     "name": "stdout",
     "output_type": "stream",
     "text": [
      "4\n"
     ]
    }
   ],
   "source": [
    "personas_con_hijos = 0\n",
    "for i in (people):\n",
    "    if i[\"n_kids\"] > 0:  \n",
    "        personas_con_hijos += 1\n",
    "print (personas_con_hijos)"
   ]
  },
  {
   "cell_type": "markdown",
   "metadata": {},
   "source": [
    "**Cuantos hijos tienen en total?**"
   ]
  },
  {
   "cell_type": "code",
   "execution_count": 113,
   "metadata": {},
   "outputs": [
    {
     "name": "stdout",
     "output_type": "stream",
     "text": [
      "14\n"
     ]
    }
   ],
   "source": [
    "cantidad_hijos = 0\n",
    "for i in (people):\n",
    "    if i[\"n_kids\"] > 0:  \n",
    "        personas_con_hijos += i[\"n_kids\"]\n",
    "print (personas_con_hijos)# your code here"
   ]
  },
  {
   "cell_type": "markdown",
   "metadata": {},
   "source": [
    "**En un año, los nombres que terminen en \"a\" tendrán un niño extra. Crea una lista de diccionarios con la información de las personas en un año**"
   ]
  },
  {
   "cell_type": "code",
   "execution_count": 126,
   "metadata": {},
   "outputs": [
    {
     "name": "stdout",
     "output_type": "stream",
     "text": [
      "[{'name': 'Juan', 'age': 34, 'n_kids': 2}, {'name': 'Pepe', 'age': 27, 'n_kids': 0}, {'name': 'Sonia', 'age': 41, 'n_kids': 2}, {'name': 'Lucía', 'age': 22, 'n_kids': 3}, {'name': 'Leo', 'age': 55, 'n_kids': 5}]\n"
     ]
    }
   ],
   "source": [
    "people_in_a_year = []\n",
    "\n",
    "for persona in people:\n",
    "    nueva_persona = persona.copy()\n",
    "    if persona[\"name\"].endswith(\"a\"):\n",
    "        nueva_persona[\"n_kids\"] += 1\n",
    "    people_in_a_year.append(nueva_persona)\n",
    "print(people_in_a_year)"
   ]
  },
  {
   "cell_type": "code",
   "execution_count": null,
   "metadata": {},
   "outputs": [],
   "source": []
  }
 ],
 "metadata": {
  "kernelspec": {
   "display_name": "Python 3 (ipykernel)",
   "language": "python",
   "name": "python3"
  },
  "language_info": {
   "codemirror_mode": {
    "name": "ipython",
    "version": 3
   },
   "file_extension": ".py",
   "mimetype": "text/x-python",
   "name": "python",
   "nbconvert_exporter": "python",
   "pygments_lexer": "ipython3",
   "version": "3.12.4"
  },
  "toc": {
   "base_numbering": 1,
   "nav_menu": {},
   "number_sections": false,
   "sideBar": true,
   "skip_h1_title": false,
   "title_cell": "Table of Contents",
   "title_sidebar": "Contents",
   "toc_cell": false,
   "toc_position": {},
   "toc_section_display": true,
   "toc_window_display": true
  },
  "varInspector": {
   "cols": {
    "lenName": 16,
    "lenType": 16,
    "lenVar": 40
   },
   "kernels_config": {
    "python": {
     "delete_cmd_postfix": "",
     "delete_cmd_prefix": "del ",
     "library": "var_list.py",
     "varRefreshCmd": "print(var_dic_list())"
    },
    "r": {
     "delete_cmd_postfix": ") ",
     "delete_cmd_prefix": "rm(",
     "library": "var_list.r",
     "varRefreshCmd": "cat(var_dic_list()) "
    }
   },
   "types_to_exclude": [
    "module",
    "function",
    "builtin_function_or_method",
    "instance",
    "_Feature"
   ],
   "window_display": false
  },
  "vscode": {
   "interpreter": {
    "hash": "aee8b7b246df8f9039afb4144a1f6fd8d2ca17a180786b69acc140d282b71a49"
   }
  }
 },
 "nbformat": 4,
 "nbformat_minor": 4
}
